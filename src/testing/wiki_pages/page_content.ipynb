{
 "cells": [
  {
   "cell_type": "code",
   "execution_count": 10,
   "metadata": {},
   "outputs": [
    {
     "name": "stdout",
     "output_type": "stream",
     "text": [
      "The autoreload extension is already loaded. To reload it, use:\n",
      "  %reload_ext autoreload\n"
     ]
    }
   ],
   "source": [
    "# update modules\n",
    "%load_ext autoreload\n",
    "%autoreload 2\n",
    "\n",
    "import httpx\n",
    "from bs4 import BeautifulSoup"
   ]
  },
  {
   "cell_type": "code",
   "execution_count": 13,
   "metadata": {},
   "outputs": [
    {
     "ename": "ImportError",
     "evalue": "attempted relative import with no known parent package",
     "output_type": "error",
     "traceback": [
      "\u001b[1;31m---------------------------------------------------------------------------\u001b[0m",
      "\u001b[1;31mImportError\u001b[0m                               Traceback (most recent call last)",
      "Cell \u001b[1;32mIn[13], line 1\u001b[0m\n\u001b[1;32m----> 1\u001b[0m \u001b[39mfrom\u001b[39;00m \u001b[39m.\u001b[39;00m\u001b[39m.\u001b[39;00m\u001b[39m.\u001b[39;00m\u001b[39mwiki_network\u001b[39;00m\u001b[39m.\u001b[39;00m\u001b[39mwiki_page\u001b[39;00m \u001b[39mimport\u001b[39;00m article_content\n",
      "\u001b[1;31mImportError\u001b[0m: attempted relative import with no known parent package"
     ]
    }
   ],
   "source": [
    "from wiki_network.wiki_page import article_content"
   ]
  },
  {
   "cell_type": "code",
   "execution_count": 2,
   "metadata": {},
   "outputs": [],
   "source": [
    "url_lst = ['https://en.wikipedia.org/wiki/Python_(programming_language)',\n",
    "    'https://en.wikipedia.org/wiki/Wikipedia:Protection_policy#semi',\n",
    "    'https://en.wikipedia.org/wiki/File:Python-logo-notext.svg',\n",
    "    'https://en.wikipedia.org/wiki/Programming_paradigm',\n",
    "    'https://en.wikipedia.org/wiki/Multi-paradigm_programming_language',\n",
    "    'https://en.wikipedia.org/wiki/Object-oriented_programming',\n",
    "    'https://en.wikipedia.org/wiki/Procedural_programming',\n",
    "    'https://en.wikipedia.org/wiki/Imperative_programming',\n",
    "    'https://en.wikipedia.org/wiki/Functional_programming',\n",
    "    'https://en.wikipedia.org/wiki/Structured_programming',\n",
    "    'https://en.wikipedia.org/wiki/Reflective_programming']\n",
    "\n",
    "url = url_lst[0]"
   ]
  },
  {
   "cell_type": "code",
   "execution_count": 4,
   "metadata": {},
   "outputs": [
    {
     "ename": "NameError",
     "evalue": "name 'artical_content' is not defined",
     "output_type": "error",
     "traceback": [
      "\u001b[1;31m---------------------------------------------------------------------------\u001b[0m",
      "\u001b[1;31mNameError\u001b[0m                                 Traceback (most recent call last)",
      "Cell \u001b[1;32mIn[4], line 3\u001b[0m\n\u001b[0;32m      1\u001b[0m raw_html \u001b[39m=\u001b[39m httpx\u001b[39m.\u001b[39mget(url)\n\u001b[1;32m----> 3\u001b[0m page_cl \u001b[39m=\u001b[39m artical_content(raw_html, url)\n",
      "\u001b[1;31mNameError\u001b[0m: name 'artical_content' is not defined"
     ]
    }
   ],
   "source": [
    "raw_html = httpx.get(url)\n",
    "\n",
    "page_cl = artical_content(raw_html, url)"
   ]
  }
 ],
 "metadata": {
  "kernelspec": {
   "display_name": "wiki",
   "language": "python",
   "name": "python3"
  },
  "language_info": {
   "codemirror_mode": {
    "name": "ipython",
    "version": 3
   },
   "file_extension": ".py",
   "mimetype": "text/x-python",
   "name": "python",
   "nbconvert_exporter": "python",
   "pygments_lexer": "ipython3",
   "version": "3.11.0"
  },
  "orig_nbformat": 4,
  "vscode": {
   "interpreter": {
    "hash": "82437ad32a3feb38f8526114cfecdbff092a57b1aec5ed9c4e5770d1731efd3e"
   }
  }
 },
 "nbformat": 4,
 "nbformat_minor": 2
}
